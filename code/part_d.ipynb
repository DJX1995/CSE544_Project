{
 "cells": [
  {
   "cell_type": "code",
   "execution_count": 74,
   "metadata": {},
   "outputs": [],
   "source": [
    "import pandas as pd\n",
    "import numpy as np\n",
    "from statsmodels.tsa.ar_model import AutoReg"
   ]
  },
  {
   "cell_type": "code",
   "execution_count": 96,
   "metadata": {},
   "outputs": [],
   "source": [
    "AZdata = pd.read_csv('AZ_administered_May.csv', index_col=0).to_numpy().squeeze()\n",
    "ALdata = pd.read_csv('AL_administered_May.csv', index_col=0).to_numpy().squeeze()"
   ]
  },
  {
   "cell_type": "code",
   "execution_count": 77,
   "metadata": {},
   "outputs": [
    {
     "name": "stderr",
     "output_type": "stream",
     "text": [
      "/Users/xuechun/opt/anaconda3/lib/python3.8/site-packages/statsmodels/tsa/ar_model.py:248: FutureWarning: The parameter names will change after 0.12 is released. Set old_names to False to use the new names now. Set old_names to True to use the old names. \n",
      "  warnings.warn(\n"
     ]
    },
    {
     "data": {
      "text/html": [
       "<table class=\"simpletable\">\n",
       "<caption>AutoReg Model Results</caption>\n",
       "<tr>\n",
       "  <th>Dep. Variable:</th>         <td>y</td>        <th>  No. Observations:  </th>    <td>30</td>   \n",
       "</tr>\n",
       "<tr>\n",
       "  <th>Model:</th>            <td>AutoReg(1)</td>    <th>  Log Likelihood     </th> <td>-303.843</td>\n",
       "</tr>\n",
       "<tr>\n",
       "  <th>Method:</th>         <td>Conditional MLE</td> <th>  S.D. of innovations</th> <td>8590.540</td>\n",
       "</tr>\n",
       "<tr>\n",
       "  <th>Date:</th>          <td>Tue, 17 May 2022</td> <th>  AIC                </th>  <td>18.324</td> \n",
       "</tr>\n",
       "<tr>\n",
       "  <th>Time:</th>              <td>15:48:26</td>     <th>  BIC                </th>  <td>18.465</td> \n",
       "</tr>\n",
       "<tr>\n",
       "  <th>Sample:</th>                <td>1</td>        <th>  HQIC               </th>  <td>18.368</td> \n",
       "</tr>\n",
       "<tr>\n",
       "  <th></th>                      <td>30</td>        <th>                     </th>     <td> </td>   \n",
       "</tr>\n",
       "</table>\n",
       "<table class=\"simpletable\">\n",
       "<tr>\n",
       "      <td></td>         <th>coef</th>     <th>std err</th>      <th>z</th>      <th>P>|z|</th>  <th>[0.025</th>    <th>0.975]</th>  \n",
       "</tr>\n",
       "<tr>\n",
       "  <th>intercept</th> <td> 1.626e+04</td> <td> 4761.136</td> <td>    3.415</td> <td> 0.001</td> <td> 6925.299</td> <td> 2.56e+04</td>\n",
       "</tr>\n",
       "<tr>\n",
       "  <th>y.L1</th>      <td>    0.3941</td> <td>    0.155</td> <td>    2.547</td> <td> 0.011</td> <td>    0.091</td> <td>    0.697</td>\n",
       "</tr>\n",
       "</table>\n",
       "<table class=\"simpletable\">\n",
       "<caption>Roots</caption>\n",
       "<tr>\n",
       "    <td></td>   <th>            Real</th>  <th>         Imaginary</th> <th>         Modulus</th>  <th>        Frequency</th>\n",
       "</tr>\n",
       "<tr>\n",
       "  <th>AR.1</th> <td>           2.5375</td> <td>          +0.0000j</td> <td>           2.5375</td> <td>           0.0000</td>\n",
       "</tr>\n",
       "</table>"
      ],
      "text/plain": [
       "<class 'statsmodels.iolib.summary.Summary'>\n",
       "\"\"\"\n",
       "                            AutoReg Model Results                             \n",
       "==============================================================================\n",
       "Dep. Variable:                      y   No. Observations:                   30\n",
       "Model:                     AutoReg(1)   Log Likelihood                -303.843\n",
       "Method:               Conditional MLE   S.D. of innovations           8590.540\n",
       "Date:                Tue, 17 May 2022   AIC                             18.324\n",
       "Time:                        15:48:26   BIC                             18.465\n",
       "Sample:                             1   HQIC                            18.368\n",
       "                                   30                                         \n",
       "==============================================================================\n",
       "                 coef    std err          z      P>|z|      [0.025      0.975]\n",
       "------------------------------------------------------------------------------\n",
       "intercept   1.626e+04   4761.136      3.415      0.001    6925.299    2.56e+04\n",
       "y.L1           0.3941      0.155      2.547      0.011       0.091       0.697\n",
       "                                    Roots                                    \n",
       "=============================================================================\n",
       "                  Real          Imaginary           Modulus         Frequency\n",
       "-----------------------------------------------------------------------------\n",
       "AR.1            2.5375           +0.0000j            2.5375            0.0000\n",
       "-----------------------------------------------------------------------------\n",
       "\"\"\""
      ]
     },
     "execution_count": 77,
     "metadata": {},
     "output_type": "execute_result"
    }
   ],
   "source": [
    "# AR(1) for AZ data\n",
    "model = AutoReg(AZdata,1) \n",
    "model_fitted = model.fit()\n",
    "model_fitted.summary()"
   ]
  },
  {
   "cell_type": "code",
   "execution_count": 82,
   "metadata": {},
   "outputs": [
    {
     "name": "stdout",
     "output_type": "stream",
     "text": [
      "MAPE:  0.3429774876856654\n"
     ]
    }
   ],
   "source": [
    "predictions = model_fitted.predict(\n",
    "    start=len(AZdata), \n",
    "    end=len(AZdata) + len(AZdata)-1, \n",
    "    dynamic=False)\n",
    "MSE = np.sum((predictions - AZdata)**2)/len(predictions)\n",
    "MAPE = np.sum(np.abs((AZdata-predictions)/AZdata))/len(predictions)\n",
    "print('MAPE: ', MAPE)"
   ]
  },
  {
   "cell_type": "code",
   "execution_count": 86,
   "metadata": {},
   "outputs": [
    {
     "name": "stderr",
     "output_type": "stream",
     "text": [
      "/Users/xuechun/opt/anaconda3/lib/python3.8/site-packages/statsmodels/tsa/ar_model.py:248: FutureWarning: The parameter names will change after 0.12 is released. Set old_names to False to use the new names now. Set old_names to True to use the old names. \n",
      "  warnings.warn(\n"
     ]
    },
    {
     "data": {
      "text/html": [
       "<table class=\"simpletable\">\n",
       "<caption>AutoReg Model Results</caption>\n",
       "<tr>\n",
       "  <th>Dep. Variable:</th>         <td>y</td>        <th>  No. Observations:  </th>    <td>30</td>   \n",
       "</tr>\n",
       "<tr>\n",
       "  <th>Model:</th>            <td>AutoReg(3)</td>    <th>  Log Likelihood     </th> <td>-279.649</td>\n",
       "</tr>\n",
       "<tr>\n",
       "  <th>Method:</th>         <td>Conditional MLE</td> <th>  S.D. of innovations</th> <td>7619.138</td>\n",
       "</tr>\n",
       "<tr>\n",
       "  <th>Date:</th>          <td>Tue, 17 May 2022</td> <th>  AIC                </th>  <td>18.247</td> \n",
       "</tr>\n",
       "<tr>\n",
       "  <th>Time:</th>              <td>15:51:03</td>     <th>  BIC                </th>  <td>18.487</td> \n",
       "</tr>\n",
       "<tr>\n",
       "  <th>Sample:</th>                <td>3</td>        <th>  HQIC               </th>  <td>18.319</td> \n",
       "</tr>\n",
       "<tr>\n",
       "  <th></th>                      <td>30</td>        <th>                     </th>     <td> </td>   \n",
       "</tr>\n",
       "</table>\n",
       "<table class=\"simpletable\">\n",
       "<tr>\n",
       "      <td></td>         <th>coef</th>     <th>std err</th>      <th>z</th>      <th>P>|z|</th>  <th>[0.025</th>    <th>0.975]</th>  \n",
       "</tr>\n",
       "<tr>\n",
       "  <th>intercept</th> <td> 2.389e+04</td> <td> 7091.236</td> <td>    3.369</td> <td> 0.001</td> <td> 9990.784</td> <td> 3.78e+04</td>\n",
       "</tr>\n",
       "<tr>\n",
       "  <th>y.L1</th>      <td>    0.5166</td> <td>    0.193</td> <td>    2.684</td> <td> 0.007</td> <td>    0.139</td> <td>    0.894</td>\n",
       "</tr>\n",
       "<tr>\n",
       "  <th>y.L2</th>      <td>   -0.2457</td> <td>    0.200</td> <td>   -1.229</td> <td> 0.219</td> <td>   -0.638</td> <td>    0.146</td>\n",
       "</tr>\n",
       "<tr>\n",
       "  <th>y.L3</th>      <td>   -0.1185</td> <td>    0.174</td> <td>   -0.683</td> <td> 0.495</td> <td>   -0.459</td> <td>    0.222</td>\n",
       "</tr>\n",
       "</table>\n",
       "<table class=\"simpletable\">\n",
       "<caption>Roots</caption>\n",
       "<tr>\n",
       "    <td></td>   <th>            Real</th>  <th>         Imaginary</th> <th>         Modulus</th>  <th>        Frequency</th>\n",
       "</tr>\n",
       "<tr>\n",
       "  <th>AR.1</th> <td>           0.8649</td> <td>          -1.2128j</td> <td>           1.4896</td> <td>          -0.1514</td>\n",
       "</tr>\n",
       "<tr>\n",
       "  <th>AR.2</th> <td>           0.8649</td> <td>          +1.2128j</td> <td>           1.4896</td> <td>           0.1514</td>\n",
       "</tr>\n",
       "<tr>\n",
       "  <th>AR.3</th> <td>          -3.8028</td> <td>          -0.0000j</td> <td>           3.8028</td> <td>          -0.5000</td>\n",
       "</tr>\n",
       "</table>"
      ],
      "text/plain": [
       "<class 'statsmodels.iolib.summary.Summary'>\n",
       "\"\"\"\n",
       "                            AutoReg Model Results                             \n",
       "==============================================================================\n",
       "Dep. Variable:                      y   No. Observations:                   30\n",
       "Model:                     AutoReg(3)   Log Likelihood                -279.649\n",
       "Method:               Conditional MLE   S.D. of innovations           7619.138\n",
       "Date:                Tue, 17 May 2022   AIC                             18.247\n",
       "Time:                        15:51:03   BIC                             18.487\n",
       "Sample:                             3   HQIC                            18.319\n",
       "                                   30                                         \n",
       "==============================================================================\n",
       "                 coef    std err          z      P>|z|      [0.025      0.975]\n",
       "------------------------------------------------------------------------------\n",
       "intercept   2.389e+04   7091.236      3.369      0.001    9990.784    3.78e+04\n",
       "y.L1           0.5166      0.193      2.684      0.007       0.139       0.894\n",
       "y.L2          -0.2457      0.200     -1.229      0.219      -0.638       0.146\n",
       "y.L3          -0.1185      0.174     -0.683      0.495      -0.459       0.222\n",
       "                                    Roots                                    \n",
       "=============================================================================\n",
       "                  Real          Imaginary           Modulus         Frequency\n",
       "-----------------------------------------------------------------------------\n",
       "AR.1            0.8649           -1.2128j            1.4896           -0.1514\n",
       "AR.2            0.8649           +1.2128j            1.4896            0.1514\n",
       "AR.3           -3.8028           -0.0000j            3.8028           -0.5000\n",
       "-----------------------------------------------------------------------------\n",
       "\"\"\""
      ]
     },
     "execution_count": 86,
     "metadata": {},
     "output_type": "execute_result"
    }
   ],
   "source": [
    "# AR(3) for AZ data\n",
    "model = AutoReg(AZdata,3) \n",
    "model_fitted = model.fit()\n",
    "model_fitted.summary()\n"
   ]
  },
  {
   "cell_type": "code",
   "execution_count": 83,
   "metadata": {},
   "outputs": [
    {
     "name": "stdout",
     "output_type": "stream",
     "text": [
      "MAPE:  0.3429774876856654\n"
     ]
    }
   ],
   "source": [
    "predictions = model_fitted.predict(\n",
    "    start=len(AZdata), \n",
    "    end=len(AZdata) + len(AZdata)-1, \n",
    "    dynamic=False)\n",
    "MAPE = np.sum(np.abs((AZdata-predictions)/AZdata))/len(predictions)\n",
    "print('MAPE: ', MAPE)"
   ]
  },
  {
   "cell_type": "code",
   "execution_count": 84,
   "metadata": {},
   "outputs": [
    {
     "name": "stderr",
     "output_type": "stream",
     "text": [
      "/Users/xuechun/opt/anaconda3/lib/python3.8/site-packages/statsmodels/tsa/ar_model.py:248: FutureWarning: The parameter names will change after 0.12 is released. Set old_names to False to use the new names now. Set old_names to True to use the old names. \n",
      "  warnings.warn(\n"
     ]
    },
    {
     "data": {
      "text/html": [
       "<table class=\"simpletable\">\n",
       "<caption>AutoReg Model Results</caption>\n",
       "<tr>\n",
       "  <th>Dep. Variable:</th>         <td>y</td>        <th>  No. Observations:  </th>    <td>23</td>   \n",
       "</tr>\n",
       "<tr>\n",
       "  <th>Model:</th>            <td>AutoReg(5)</td>    <th>  Log Likelihood     </th> <td>-185.128</td>\n",
       "</tr>\n",
       "<tr>\n",
       "  <th>Method:</th>         <td>Conditional MLE</td> <th>  S.D. of innovations</th> <td>7086.682</td>\n",
       "</tr>\n",
       "<tr>\n",
       "  <th>Date:</th>          <td>Tue, 17 May 2022</td> <th>  AIC                </th>  <td>18.510</td> \n",
       "</tr>\n",
       "<tr>\n",
       "  <th>Time:</th>              <td>15:50:51</td>     <th>  BIC                </th>  <td>18.856</td> \n",
       "</tr>\n",
       "<tr>\n",
       "  <th>Sample:</th>                <td>5</td>        <th>  HQIC               </th>  <td>18.557</td> \n",
       "</tr>\n",
       "<tr>\n",
       "  <th></th>                      <td>23</td>        <th>                     </th>     <td> </td>   \n",
       "</tr>\n",
       "</table>\n",
       "<table class=\"simpletable\">\n",
       "<tr>\n",
       "      <td></td>         <th>coef</th>     <th>std err</th>      <th>z</th>      <th>P>|z|</th>  <th>[0.025</th>    <th>0.975]</th>  \n",
       "</tr>\n",
       "<tr>\n",
       "  <th>intercept</th> <td> 5.047e+04</td> <td> 1.57e+04</td> <td>    3.211</td> <td> 0.001</td> <td> 1.97e+04</td> <td> 8.13e+04</td>\n",
       "</tr>\n",
       "<tr>\n",
       "  <th>y.L1</th>      <td>    0.2061</td> <td>    0.230</td> <td>    0.895</td> <td> 0.371</td> <td>   -0.245</td> <td>    0.657</td>\n",
       "</tr>\n",
       "<tr>\n",
       "  <th>y.L2</th>      <td>   -0.4323</td> <td>    0.227</td> <td>   -1.904</td> <td> 0.057</td> <td>   -0.877</td> <td>    0.013</td>\n",
       "</tr>\n",
       "<tr>\n",
       "  <th>y.L3</th>      <td>   -0.1043</td> <td>    0.248</td> <td>   -0.420</td> <td> 0.674</td> <td>   -0.591</td> <td>    0.382</td>\n",
       "</tr>\n",
       "<tr>\n",
       "  <th>y.L4</th>      <td>   -0.1821</td> <td>    0.218</td> <td>   -0.836</td> <td> 0.403</td> <td>   -0.609</td> <td>    0.245</td>\n",
       "</tr>\n",
       "<tr>\n",
       "  <th>y.L5</th>      <td>   -0.1250</td> <td>    0.205</td> <td>   -0.608</td> <td> 0.543</td> <td>   -0.528</td> <td>    0.278</td>\n",
       "</tr>\n",
       "</table>\n",
       "<table class=\"simpletable\">\n",
       "<caption>Roots</caption>\n",
       "<tr>\n",
       "    <td></td>   <th>            Real</th>  <th>         Imaginary</th> <th>         Modulus</th>  <th>        Frequency</th>\n",
       "</tr>\n",
       "<tr>\n",
       "  <th>AR.1</th> <td>           0.7895</td> <td>          -0.9747j</td> <td>           1.2544</td> <td>          -0.1416</td>\n",
       "</tr>\n",
       "<tr>\n",
       "  <th>AR.2</th> <td>           0.7895</td> <td>          +0.9747j</td> <td>           1.2544</td> <td>           0.1416</td>\n",
       "</tr>\n",
       "<tr>\n",
       "  <th>AR.3</th> <td>          -0.3984</td> <td>          -1.4534j</td> <td>           1.5070</td> <td>          -0.2926</td>\n",
       "</tr>\n",
       "<tr>\n",
       "  <th>AR.4</th> <td>          -0.3984</td> <td>          +1.4534j</td> <td>           1.5070</td> <td>           0.2926</td>\n",
       "</tr>\n",
       "<tr>\n",
       "  <th>AR.5</th> <td>          -2.2392</td> <td>          -0.0000j</td> <td>           2.2392</td> <td>          -0.5000</td>\n",
       "</tr>\n",
       "</table>"
      ],
      "text/plain": [
       "<class 'statsmodels.iolib.summary.Summary'>\n",
       "\"\"\"\n",
       "                            AutoReg Model Results                             \n",
       "==============================================================================\n",
       "Dep. Variable:                      y   No. Observations:                   23\n",
       "Model:                     AutoReg(5)   Log Likelihood                -185.128\n",
       "Method:               Conditional MLE   S.D. of innovations           7086.682\n",
       "Date:                Tue, 17 May 2022   AIC                             18.510\n",
       "Time:                        15:50:51   BIC                             18.856\n",
       "Sample:                             5   HQIC                            18.557\n",
       "                                   23                                         \n",
       "==============================================================================\n",
       "                 coef    std err          z      P>|z|      [0.025      0.975]\n",
       "------------------------------------------------------------------------------\n",
       "intercept   5.047e+04   1.57e+04      3.211      0.001    1.97e+04    8.13e+04\n",
       "y.L1           0.2061      0.230      0.895      0.371      -0.245       0.657\n",
       "y.L2          -0.4323      0.227     -1.904      0.057      -0.877       0.013\n",
       "y.L3          -0.1043      0.248     -0.420      0.674      -0.591       0.382\n",
       "y.L4          -0.1821      0.218     -0.836      0.403      -0.609       0.245\n",
       "y.L5          -0.1250      0.205     -0.608      0.543      -0.528       0.278\n",
       "                                    Roots                                    \n",
       "=============================================================================\n",
       "                  Real          Imaginary           Modulus         Frequency\n",
       "-----------------------------------------------------------------------------\n",
       "AR.1            0.7895           -0.9747j            1.2544           -0.1416\n",
       "AR.2            0.7895           +0.9747j            1.2544            0.1416\n",
       "AR.3           -0.3984           -1.4534j            1.5070           -0.2926\n",
       "AR.4           -0.3984           +1.4534j            1.5070            0.2926\n",
       "AR.5           -2.2392           -0.0000j            2.2392           -0.5000\n",
       "-----------------------------------------------------------------------------\n",
       "\"\"\""
      ]
     },
     "execution_count": 84,
     "metadata": {},
     "output_type": "execute_result"
    }
   ],
   "source": [
    "# AR(5) for AZ data\n",
    "model = AutoReg(AZtrain,5) \n",
    "model_fitted = model.fit()\n",
    "model_fitted.summary()"
   ]
  },
  {
   "cell_type": "code",
   "execution_count": 87,
   "metadata": {},
   "outputs": [
    {
     "name": "stdout",
     "output_type": "stream",
     "text": [
      "MAPE:  0.37663267836330533\n"
     ]
    }
   ],
   "source": [
    "predictions = model_fitted.predict(\n",
    "    start=len(AZdata), \n",
    "    end=len(AZdata) + len(AZdata)-1, \n",
    "    dynamic=False)\n",
    "MSE = np.sum((predictions - AZdata)**2)/len(predictions)\n",
    "MAPE = np.sum(np.abs((AZdata-predictions)/AZdata))/len(predictions)\n",
    "print('MAPE: ', MAPE)"
   ]
  },
  {
   "cell_type": "code",
   "execution_count": 100,
   "metadata": {},
   "outputs": [
    {
     "name": "stdout",
     "output_type": "stream",
     "text": [
      "MAPE:  0.11738066271063642\n"
     ]
    }
   ],
   "source": [
    "# EWMA(0.5) for AZ data\n",
    "AZdata = pd.read_csv('AZ_administered_May.csv', index_col=0)\n",
    "pred = np.array(AZdata['Administered'].ewm(com=0.5).mean())\n",
    "MSE = np.sum((pred - np.array(AZdata['Administered'])**2)/len(pred))\n",
    "MAPE = np.sum(np.abs((np.array(AZdata['Administered'])-pred)/np.array(AZdata['Administered'])))/len(pred)\n",
    "print('MAPE: ', MAPE)"
   ]
  },
  {
   "cell_type": "code",
   "execution_count": 101,
   "metadata": {},
   "outputs": [
    {
     "name": "stdout",
     "output_type": "stream",
     "text": [
      "MAPE:  0.15902183285036464\n"
     ]
    }
   ],
   "source": [
    "# EWMA(0.8) for AZ data\n",
    "AZdata = pd.read_csv('AZ_administered_May.csv', index_col=0)\n",
    "pred = np.array(AZdata['Administered'].ewm(com=0.8).mean())\n",
    "MSE = np.sum((pred - np.array(AZdata['Administered'])**2)/len(pred))\n",
    "MAPE = np.sum(np.abs((np.array(AZdata['Administered'])-pred)/np.array(AZdata['Administered'])))/len(pred)\n",
    "print('MAPE: ', MAPE)"
   ]
  },
  {
   "cell_type": "code",
   "execution_count": 102,
   "metadata": {},
   "outputs": [],
   "source": [
    "AZdata = pd.read_csv('AZ_administered_May.csv', index_col=0).to_numpy().squeeze()\n",
    "ALdata = pd.read_csv('AL_administered_May.csv', index_col=0).to_numpy().squeeze()"
   ]
  },
  {
   "cell_type": "code",
   "execution_count": 104,
   "metadata": {},
   "outputs": [
    {
     "name": "stderr",
     "output_type": "stream",
     "text": [
      "/Users/xuechun/opt/anaconda3/lib/python3.8/site-packages/statsmodels/tsa/ar_model.py:248: FutureWarning: The parameter names will change after 0.12 is released. Set old_names to False to use the new names now. Set old_names to True to use the old names. \n",
      "  warnings.warn(\n"
     ]
    },
    {
     "data": {
      "text/html": [
       "<table class=\"simpletable\">\n",
       "<caption>AutoReg Model Results</caption>\n",
       "<tr>\n",
       "  <th>Dep. Variable:</th>         <td>y</td>        <th>  No. Observations:  </th>    <td>30</td>    \n",
       "</tr>\n",
       "<tr>\n",
       "  <th>Model:</th>            <td>AutoReg(1)</td>    <th>  Log Likelihood     </th> <td>-311.642</td> \n",
       "</tr>\n",
       "<tr>\n",
       "  <th>Method:</th>         <td>Conditional MLE</td> <th>  S.D. of innovations</th> <td>11241.209</td>\n",
       "</tr>\n",
       "<tr>\n",
       "  <th>Date:</th>          <td>Tue, 17 May 2022</td> <th>  AIC                </th>  <td>18.862</td>  \n",
       "</tr>\n",
       "<tr>\n",
       "  <th>Time:</th>              <td>15:54:39</td>     <th>  BIC                </th>  <td>19.003</td>  \n",
       "</tr>\n",
       "<tr>\n",
       "  <th>Sample:</th>                <td>1</td>        <th>  HQIC               </th>  <td>18.906</td>  \n",
       "</tr>\n",
       "<tr>\n",
       "  <th></th>                      <td>30</td>        <th>                     </th>     <td> </td>    \n",
       "</tr>\n",
       "</table>\n",
       "<table class=\"simpletable\">\n",
       "<tr>\n",
       "      <td></td>         <th>coef</th>     <th>std err</th>      <th>z</th>      <th>P>|z|</th>  <th>[0.025</th>    <th>0.975]</th>  \n",
       "</tr>\n",
       "<tr>\n",
       "  <th>intercept</th> <td> 1.188e+04</td> <td> 3181.643</td> <td>    3.733</td> <td> 0.000</td> <td> 5640.480</td> <td> 1.81e+04</td>\n",
       "</tr>\n",
       "<tr>\n",
       "  <th>y.L1</th>      <td>    0.0183</td> <td>    0.185</td> <td>    0.099</td> <td> 0.921</td> <td>   -0.344</td> <td>    0.380</td>\n",
       "</tr>\n",
       "</table>\n",
       "<table class=\"simpletable\">\n",
       "<caption>Roots</caption>\n",
       "<tr>\n",
       "    <td></td>   <th>            Real</th>  <th>         Imaginary</th> <th>         Modulus</th>  <th>        Frequency</th>\n",
       "</tr>\n",
       "<tr>\n",
       "  <th>AR.1</th> <td>          54.6006</td> <td>          +0.0000j</td> <td>          54.6006</td> <td>           0.0000</td>\n",
       "</tr>\n",
       "</table>"
      ],
      "text/plain": [
       "<class 'statsmodels.iolib.summary.Summary'>\n",
       "\"\"\"\n",
       "                            AutoReg Model Results                             \n",
       "==============================================================================\n",
       "Dep. Variable:                      y   No. Observations:                   30\n",
       "Model:                     AutoReg(1)   Log Likelihood                -311.642\n",
       "Method:               Conditional MLE   S.D. of innovations          11241.209\n",
       "Date:                Tue, 17 May 2022   AIC                             18.862\n",
       "Time:                        15:54:39   BIC                             19.003\n",
       "Sample:                             1   HQIC                            18.906\n",
       "                                   30                                         \n",
       "==============================================================================\n",
       "                 coef    std err          z      P>|z|      [0.025      0.975]\n",
       "------------------------------------------------------------------------------\n",
       "intercept   1.188e+04   3181.643      3.733      0.000    5640.480    1.81e+04\n",
       "y.L1           0.0183      0.185      0.099      0.921      -0.344       0.380\n",
       "                                    Roots                                    \n",
       "=============================================================================\n",
       "                  Real          Imaginary           Modulus         Frequency\n",
       "-----------------------------------------------------------------------------\n",
       "AR.1           54.6006           +0.0000j           54.6006            0.0000\n",
       "-----------------------------------------------------------------------------\n",
       "\"\"\""
      ]
     },
     "execution_count": 104,
     "metadata": {},
     "output_type": "execute_result"
    }
   ],
   "source": [
    "# AR(1) for AL data\n",
    "model = AutoReg(ALdata,1) \n",
    "model_fitted = model.fit()\n",
    "model_fitted.summary()\n"
   ]
  },
  {
   "cell_type": "code",
   "execution_count": 105,
   "metadata": {},
   "outputs": [
    {
     "name": "stdout",
     "output_type": "stream",
     "text": [
      "MAPE:  15.282073921372355\n"
     ]
    }
   ],
   "source": [
    "predictions = model_fitted.predict(\n",
    "    start=len(ALdata), \n",
    "    end=len(ALdata) + len(ALdata)-1, \n",
    "    dynamic=False)\n",
    "MSE = np.sum((predictions - ALdata)**2)/len(pred)\n",
    "MAPE = np.sum(np.abs((ALdata-predictions)/ALdata))/len(predictions)\n",
    "print('MAPE: ', MAPE)"
   ]
  },
  {
   "cell_type": "code",
   "execution_count": 111,
   "metadata": {},
   "outputs": [
    {
     "name": "stderr",
     "output_type": "stream",
     "text": [
      "/Users/xuechun/opt/anaconda3/lib/python3.8/site-packages/statsmodels/tsa/ar_model.py:248: FutureWarning: The parameter names will change after 0.12 is released. Set old_names to False to use the new names now. Set old_names to True to use the old names. \n",
      "  warnings.warn(\n"
     ]
    },
    {
     "data": {
      "text/html": [
       "<table class=\"simpletable\">\n",
       "<caption>AutoReg Model Results</caption>\n",
       "<tr>\n",
       "  <th>Dep. Variable:</th>         <td>y</td>        <th>  No. Observations:  </th>    <td>30</td>    \n",
       "</tr>\n",
       "<tr>\n",
       "  <th>Model:</th>            <td>AutoReg(3)</td>    <th>  Log Likelihood     </th> <td>-290.252</td> \n",
       "</tr>\n",
       "<tr>\n",
       "  <th>Method:</th>         <td>Conditional MLE</td> <th>  S.D. of innovations</th> <td>11284.045</td>\n",
       "</tr>\n",
       "<tr>\n",
       "  <th>Date:</th>          <td>Tue, 17 May 2022</td> <th>  AIC                </th>  <td>19.033</td>  \n",
       "</tr>\n",
       "<tr>\n",
       "  <th>Time:</th>              <td>16:04:39</td>     <th>  BIC                </th>  <td>19.273</td>  \n",
       "</tr>\n",
       "<tr>\n",
       "  <th>Sample:</th>                <td>3</td>        <th>  HQIC               </th>  <td>19.104</td>  \n",
       "</tr>\n",
       "<tr>\n",
       "  <th></th>                      <td>30</td>        <th>                     </th>     <td> </td>    \n",
       "</tr>\n",
       "</table>\n",
       "<table class=\"simpletable\">\n",
       "<tr>\n",
       "      <td></td>         <th>coef</th>     <th>std err</th>      <th>z</th>      <th>P>|z|</th>  <th>[0.025</th>    <th>0.975]</th>  \n",
       "</tr>\n",
       "<tr>\n",
       "  <th>intercept</th> <td> 1.324e+04</td> <td> 4940.127</td> <td>    2.681</td> <td> 0.007</td> <td> 3560.635</td> <td> 2.29e+04</td>\n",
       "</tr>\n",
       "<tr>\n",
       "  <th>y.L1</th>      <td>    0.0338</td> <td>    0.192</td> <td>    0.176</td> <td> 0.860</td> <td>   -0.342</td> <td>    0.409</td>\n",
       "</tr>\n",
       "<tr>\n",
       "  <th>y.L2</th>      <td>    0.0864</td> <td>    0.194</td> <td>    0.445</td> <td> 0.656</td> <td>   -0.294</td> <td>    0.467</td>\n",
       "</tr>\n",
       "<tr>\n",
       "  <th>y.L3</th>      <td>   -0.1560</td> <td>    0.192</td> <td>   -0.811</td> <td> 0.417</td> <td>   -0.533</td> <td>    0.221</td>\n",
       "</tr>\n",
       "</table>\n",
       "<table class=\"simpletable\">\n",
       "<caption>Roots</caption>\n",
       "<tr>\n",
       "    <td></td>   <th>            Real</th>  <th>         Imaginary</th> <th>         Modulus</th>  <th>        Frequency</th>\n",
       "</tr>\n",
       "<tr>\n",
       "  <th>AR.1</th> <td>          -1.7253</td> <td>          -0.0000j</td> <td>           1.7253</td> <td>          -0.5000</td>\n",
       "</tr>\n",
       "<tr>\n",
       "  <th>AR.2</th> <td>           1.1398</td> <td>          -1.5547j</td> <td>           1.9277</td> <td>          -0.1493</td>\n",
       "</tr>\n",
       "<tr>\n",
       "  <th>AR.3</th> <td>           1.1398</td> <td>          +1.5547j</td> <td>           1.9277</td> <td>           0.1493</td>\n",
       "</tr>\n",
       "</table>"
      ],
      "text/plain": [
       "<class 'statsmodels.iolib.summary.Summary'>\n",
       "\"\"\"\n",
       "                            AutoReg Model Results                             \n",
       "==============================================================================\n",
       "Dep. Variable:                      y   No. Observations:                   30\n",
       "Model:                     AutoReg(3)   Log Likelihood                -290.252\n",
       "Method:               Conditional MLE   S.D. of innovations          11284.045\n",
       "Date:                Tue, 17 May 2022   AIC                             19.033\n",
       "Time:                        16:04:39   BIC                             19.273\n",
       "Sample:                             3   HQIC                            19.104\n",
       "                                   30                                         \n",
       "==============================================================================\n",
       "                 coef    std err          z      P>|z|      [0.025      0.975]\n",
       "------------------------------------------------------------------------------\n",
       "intercept   1.324e+04   4940.127      2.681      0.007    3560.635    2.29e+04\n",
       "y.L1           0.0338      0.192      0.176      0.860      -0.342       0.409\n",
       "y.L2           0.0864      0.194      0.445      0.656      -0.294       0.467\n",
       "y.L3          -0.1560      0.192     -0.811      0.417      -0.533       0.221\n",
       "                                    Roots                                    \n",
       "=============================================================================\n",
       "                  Real          Imaginary           Modulus         Frequency\n",
       "-----------------------------------------------------------------------------\n",
       "AR.1           -1.7253           -0.0000j            1.7253           -0.5000\n",
       "AR.2            1.1398           -1.5547j            1.9277           -0.1493\n",
       "AR.3            1.1398           +1.5547j            1.9277            0.1493\n",
       "-----------------------------------------------------------------------------\n",
       "\"\"\""
      ]
     },
     "execution_count": 111,
     "metadata": {},
     "output_type": "execute_result"
    }
   ],
   "source": [
    "# AR(3) for AL data\n",
    "model = AutoReg(ALdata,3) \n",
    "model_fitted = model.fit()\n",
    "model_fitted.summary()"
   ]
  },
  {
   "cell_type": "code",
   "execution_count": 106,
   "metadata": {},
   "outputs": [
    {
     "name": "stdout",
     "output_type": "stream",
     "text": [
      "MAPE:  15.282073921372355\n"
     ]
    }
   ],
   "source": [
    "predictions = model_fitted.predict(\n",
    "    start=len(ALdata), \n",
    "    end=len(ALdata) + len(ALdata)-1, \n",
    "    dynamic=False)\n",
    "MSE = np.sum((predictions - ALdata)**2)/len(pred)\n",
    "MAPE = np.sum(np.abs((ALdata-predictions)/ALdata))/len(predictions)\n",
    "print('MAPE: ', MAPE)"
   ]
  },
  {
   "cell_type": "code",
   "execution_count": 107,
   "metadata": {},
   "outputs": [
    {
     "name": "stderr",
     "output_type": "stream",
     "text": [
      "/Users/xuechun/opt/anaconda3/lib/python3.8/site-packages/statsmodels/tsa/ar_model.py:248: FutureWarning: The parameter names will change after 0.12 is released. Set old_names to False to use the new names now. Set old_names to True to use the old names. \n",
      "  warnings.warn(\n"
     ]
    },
    {
     "data": {
      "text/html": [
       "<table class=\"simpletable\">\n",
       "<caption>AutoReg Model Results</caption>\n",
       "<tr>\n",
       "  <th>Dep. Variable:</th>         <td>y</td>        <th>  No. Observations:  </th>    <td>23</td>    \n",
       "</tr>\n",
       "<tr>\n",
       "  <th>Model:</th>            <td>AutoReg(5)</td>    <th>  Log Likelihood     </th> <td>-191.373</td> \n",
       "</tr>\n",
       "<tr>\n",
       "  <th>Method:</th>         <td>Conditional MLE</td> <th>  S.D. of innovations</th> <td>10025.838</td>\n",
       "</tr>\n",
       "<tr>\n",
       "  <th>Date:</th>          <td>Tue, 17 May 2022</td> <th>  AIC                </th>  <td>19.204</td>  \n",
       "</tr>\n",
       "<tr>\n",
       "  <th>Time:</th>              <td>15:55:47</td>     <th>  BIC                </th>  <td>19.550</td>  \n",
       "</tr>\n",
       "<tr>\n",
       "  <th>Sample:</th>                <td>5</td>        <th>  HQIC               </th>  <td>19.251</td>  \n",
       "</tr>\n",
       "<tr>\n",
       "  <th></th>                      <td>23</td>        <th>                     </th>     <td> </td>    \n",
       "</tr>\n",
       "</table>\n",
       "<table class=\"simpletable\">\n",
       "<tr>\n",
       "      <td></td>         <th>coef</th>     <th>std err</th>      <th>z</th>      <th>P>|z|</th>  <th>[0.025</th>    <th>0.975]</th>  \n",
       "</tr>\n",
       "<tr>\n",
       "  <th>intercept</th> <td>  3.68e+04</td> <td> 1.09e+04</td> <td>    3.376</td> <td> 0.001</td> <td> 1.54e+04</td> <td> 5.82e+04</td>\n",
       "</tr>\n",
       "<tr>\n",
       "  <th>y.L1</th>      <td>   -0.3824</td> <td>    0.229</td> <td>   -1.673</td> <td> 0.094</td> <td>   -0.830</td> <td>    0.066</td>\n",
       "</tr>\n",
       "<tr>\n",
       "  <th>y.L2</th>      <td>   -0.0956</td> <td>    0.224</td> <td>   -0.427</td> <td> 0.669</td> <td>   -0.534</td> <td>    0.343</td>\n",
       "</tr>\n",
       "<tr>\n",
       "  <th>y.L3</th>      <td>   -0.3502</td> <td>    0.193</td> <td>   -1.816</td> <td> 0.069</td> <td>   -0.728</td> <td>    0.028</td>\n",
       "</tr>\n",
       "<tr>\n",
       "  <th>y.L4</th>      <td>   -0.5581</td> <td>    0.210</td> <td>   -2.656</td> <td> 0.008</td> <td>   -0.970</td> <td>   -0.146</td>\n",
       "</tr>\n",
       "<tr>\n",
       "  <th>y.L5</th>      <td>   -0.0937</td> <td>    0.236</td> <td>   -0.397</td> <td> 0.692</td> <td>   -0.557</td> <td>    0.369</td>\n",
       "</tr>\n",
       "</table>\n",
       "<table class=\"simpletable\">\n",
       "<caption>Roots</caption>\n",
       "<tr>\n",
       "    <td></td>   <th>            Real</th>  <th>         Imaginary</th> <th>         Modulus</th>  <th>        Frequency</th>\n",
       "</tr>\n",
       "<tr>\n",
       "  <th>AR.1</th> <td>           0.6748</td> <td>          -0.8961j</td> <td>           1.1218</td> <td>          -0.1473</td>\n",
       "</tr>\n",
       "<tr>\n",
       "  <th>AR.2</th> <td>           0.6748</td> <td>          +0.8961j</td> <td>           1.1218</td> <td>           0.1473</td>\n",
       "</tr>\n",
       "<tr>\n",
       "  <th>AR.3</th> <td>          -1.0181</td> <td>          -0.7569j</td> <td>           1.2686</td> <td>          -0.3983</td>\n",
       "</tr>\n",
       "<tr>\n",
       "  <th>AR.4</th> <td>          -1.0181</td> <td>          +0.7569j</td> <td>           1.2686</td> <td>           0.3983</td>\n",
       "</tr>\n",
       "<tr>\n",
       "  <th>AR.5</th> <td>          -5.2706</td> <td>          -0.0000j</td> <td>           5.2706</td> <td>          -0.5000</td>\n",
       "</tr>\n",
       "</table>"
      ],
      "text/plain": [
       "<class 'statsmodels.iolib.summary.Summary'>\n",
       "\"\"\"\n",
       "                            AutoReg Model Results                             \n",
       "==============================================================================\n",
       "Dep. Variable:                      y   No. Observations:                   23\n",
       "Model:                     AutoReg(5)   Log Likelihood                -191.373\n",
       "Method:               Conditional MLE   S.D. of innovations          10025.838\n",
       "Date:                Tue, 17 May 2022   AIC                             19.204\n",
       "Time:                        15:55:47   BIC                             19.550\n",
       "Sample:                             5   HQIC                            19.251\n",
       "                                   23                                         \n",
       "==============================================================================\n",
       "                 coef    std err          z      P>|z|      [0.025      0.975]\n",
       "------------------------------------------------------------------------------\n",
       "intercept    3.68e+04   1.09e+04      3.376      0.001    1.54e+04    5.82e+04\n",
       "y.L1          -0.3824      0.229     -1.673      0.094      -0.830       0.066\n",
       "y.L2          -0.0956      0.224     -0.427      0.669      -0.534       0.343\n",
       "y.L3          -0.3502      0.193     -1.816      0.069      -0.728       0.028\n",
       "y.L4          -0.5581      0.210     -2.656      0.008      -0.970      -0.146\n",
       "y.L5          -0.0937      0.236     -0.397      0.692      -0.557       0.369\n",
       "                                    Roots                                    \n",
       "=============================================================================\n",
       "                  Real          Imaginary           Modulus         Frequency\n",
       "-----------------------------------------------------------------------------\n",
       "AR.1            0.6748           -0.8961j            1.1218           -0.1473\n",
       "AR.2            0.6748           +0.8961j            1.1218            0.1473\n",
       "AR.3           -1.0181           -0.7569j            1.2686           -0.3983\n",
       "AR.4           -1.0181           +0.7569j            1.2686            0.3983\n",
       "AR.5           -5.2706           -0.0000j            5.2706           -0.5000\n",
       "-----------------------------------------------------------------------------\n",
       "\"\"\""
      ]
     },
     "execution_count": 107,
     "metadata": {},
     "output_type": "execute_result"
    }
   ],
   "source": [
    "# AR(5) for AL data\n",
    "model = AutoReg(ALtrain,5) \n",
    "model_fitted = model.fit()\n",
    "model_fitted.summary()"
   ]
  },
  {
   "cell_type": "code",
   "execution_count": 108,
   "metadata": {},
   "outputs": [
    {
     "name": "stdout",
     "output_type": "stream",
     "text": [
      "MAPE:  7.009200685746833\n"
     ]
    }
   ],
   "source": [
    "predictions = model_fitted.predict(\n",
    "    start=len(ALtrain), \n",
    "    end=len(ALtrain) + len(ALtest)-1, \n",
    "    dynamic=False)\n",
    "MSE = np.sum((predictions - ALtest)**2)/len(pred)\n",
    "MAPE = np.sum(np.abs((ALtest-predictions)/ALtest))/len(predictions)\n",
    "print('MAPE: ', MAPE)"
   ]
  },
  {
   "cell_type": "code",
   "execution_count": 109,
   "metadata": {},
   "outputs": [
    {
     "name": "stdout",
     "output_type": "stream",
     "text": [
      "MAPE:  5.0218770273748845\n"
     ]
    }
   ],
   "source": [
    "# EWMA(0.5) for AL data\n",
    "AZdata = pd.read_csv('AL_administered_May.csv', index_col=0)\n",
    "pred = np.array(AZdata['Administered'].ewm(com=0.5).mean())\n",
    "MSE = np.sum((pred - np.array(AZdata['Administered'])**2)/len(pred))\n",
    "MAPE = np.sum(np.abs((np.array(AZdata['Administered'])-pred)/np.array(AZdata['Administered'])))/len(pred)\n",
    "print('MAPE: ', MAPE)"
   ]
  },
  {
   "cell_type": "code",
   "execution_count": 110,
   "metadata": {},
   "outputs": [
    {
     "name": "stdout",
     "output_type": "stream",
     "text": [
      "MAPE:  7.411584609108143\n"
     ]
    }
   ],
   "source": [
    "# EWMA(0.8) for AL data\n",
    "AZdata = pd.read_csv('AL_administered_May.csv', index_col=0)\n",
    "pred = np.array(AZdata['Administered'].ewm(com=0.8).mean())\n",
    "MSE = np.sum((pred - np.array(AZdata['Administered'])**2)/len(pred))\n",
    "MAPE = np.sum(np.abs((np.array(AZdata['Administered'])-pred)/np.array(AZdata['Administered'])))/len(pred)\n",
    "print('MAPE: ', MAPE)"
   ]
  },
  {
   "cell_type": "code",
   "execution_count": null,
   "metadata": {},
   "outputs": [],
   "source": []
  }
 ],
 "metadata": {
  "kernelspec": {
   "display_name": "Python 3",
   "language": "python",
   "name": "python3"
  },
  "language_info": {
   "codemirror_mode": {
    "name": "ipython",
    "version": 3
   },
   "file_extension": ".py",
   "mimetype": "text/x-python",
   "name": "python",
   "nbconvert_exporter": "python",
   "pygments_lexer": "ipython3",
   "version": "3.8.5"
  }
 },
 "nbformat": 4,
 "nbformat_minor": 4
}
